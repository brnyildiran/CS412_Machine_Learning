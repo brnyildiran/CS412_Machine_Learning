{
  "nbformat": 4,
  "nbformat_minor": 0,
  "metadata": {
    "colab": {
      "name": "CS412_HW1_Q3_BernaYildiran.ipynb",
      "provenance": [],
      "collapsed_sections": []
    },
    "kernelspec": {
      "name": "python3",
      "display_name": "Python 3"
    },
    "language_info": {
      "name": "python"
    }
  },
  "cells": [
    {
      "cell_type": "markdown",
      "source": [
        "## **Homework 1 - Question \\#3**"
      ],
      "metadata": {
        "id": "dDOmee5d1vqE"
      }
    },
    {
      "cell_type": "markdown",
      "source": [
        "You are given a biased classifier that produce random results for any given query. \n",
        "Probability of getting positive label estimated to be 0.75"
      ],
      "metadata": {
        "id": "2sD4-DEM2LeC"
      }
    },
    {
      "cell_type": "markdown",
      "source": [
        "## **Part 1**\n",
        "What will be the accuracy of such model on a dataset with a class imbalance \n",
        "70% positive instances?\n",
        "\n",
        "![image.png](data:image/png;base64,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)"
      ],
      "metadata": {
        "id": "NvZjRYrn2YB2"
      }
    },
    {
      "cell_type": "code",
      "source": [
        "prob_positive_label = 0.75\n",
        "positive_instances = 70\n",
        "\n",
        "prob_negative_label = 0.25\n",
        "negative_instances = 30\n",
        "\n",
        "TruePositives = (prob_positive_label * positive_instances)\n",
        "TrueNegatives = (prob_negative_label * negative_instances)\n",
        "\n",
        "FalsePositives = 75 - TruePositives\n",
        "FalseNegatives = 25 - TrueNegatives\n",
        "\n",
        "Accuracy = TruePositives + TrueNegatives\n",
        "\n",
        "print(\"True Positive:\", TruePositives)\n",
        "print(\"False Positive:\", FalsePositives)\n",
        "print(\"False Negatives:\", FalseNegatives)\n",
        "print(\"True Negatives:\", TrueNegatives)\n",
        "\n",
        "print('\\n')\n",
        "\n",
        "print(\"Accuracy (TP + TN):\", Accuracy)\n",
        "\n"
      ],
      "metadata": {
        "colab": {
          "base_uri": "https://localhost:8080/"
        },
        "id": "FA4pMqrS4Svh",
        "outputId": "fabd87f3-e55c-4e5e-c789-e193ef87f0ed"
      },
      "execution_count": null,
      "outputs": [
        {
          "output_type": "stream",
          "name": "stdout",
          "text": [
            "True Positive: 52.5\n",
            "False Positive: 22.5\n",
            "False Negatives: 17.5\n",
            "True Negatives: 7.5\n",
            "\n",
            "\n",
            "Accuracy (TP + TN): 60.0\n"
          ]
        }
      ]
    },
    {
      "cell_type": "markdown",
      "source": [
        "## **Part 2**\n",
        "What is the entropy of the random model predictions?"
      ],
      "metadata": {
        "id": "IcK7XO922iJX"
      }
    },
    {
      "cell_type": "code",
      "source": [
        "# calculate the entropy for a dataset\n",
        "from math import log2\n",
        "\n",
        "# proportion of examples in each class\n",
        "prob_y_positive = 0.75\n",
        "prob_y_negative = 0.25\n",
        "\n",
        "# calculate entropy\n",
        "entropy = -(prob_y_positive * log2(prob_y_positive) + prob_y_negative * log2(prob_y_negative))\n",
        "\n",
        "# print the result\n",
        "print(\"Entropy: \", entropy, \" =  %.4f\" % entropy)"
      ],
      "metadata": {
        "colab": {
          "base_uri": "https://localhost:8080/"
        },
        "id": "zSrTppRfGvlM",
        "outputId": "71af9f26-59fd-4e33-d973-ac18ed34cc19"
      },
      "execution_count": null,
      "outputs": [
        {
          "output_type": "stream",
          "name": "stdout",
          "text": [
            "Entropy:  0.8112781244591328  =  0.8113\n"
          ]
        }
      ]
    }
  ]
}